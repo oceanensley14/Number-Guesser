{
  "nbformat": 4,
  "nbformat_minor": 0,
  "metadata": {
    "colab": {
      "provenance": [],
      "authorship_tag": "ABX9TyPwcImGGag1GSxi+c8aqEw7",
      "include_colab_link": true
    },
    "kernelspec": {
      "name": "python3",
      "display_name": "Python 3"
    },
    "language_info": {
      "name": "python"
    }
  },
  "cells": [
    {
      "cell_type": "markdown",
      "metadata": {
        "id": "view-in-github",
        "colab_type": "text"
      },
      "source": [
        "<a href=\"https://colab.research.google.com/github/oceanensley14/Number-Guesser/blob/main/number_generator0.ipynb\" target=\"_parent\"><img src=\"https://colab.research.google.com/assets/colab-badge.svg\" alt=\"Open In Colab\"/></a>"
      ]
    },
    {
      "cell_type": "code",
      "execution_count": 1,
      "metadata": {
        "colab": {
          "base_uri": "https://localhost:8080/"
        },
        "id": "U1KfnTOL4nIV",
        "outputId": "10a53511-1b5f-4b77-99aa-3bdcc594ddbd"
      },
      "outputs": [
        {
          "output_type": "stream",
          "name": "stdout",
          "text": [
            "Enter Guess:5\n",
            "Guess Higher!\n",
            "Enter Guess:8\n",
            "Guess Higher!\n",
            "Enter Guess:67\n",
            "Guess Lower!\n",
            "Enter Guess:53\n",
            "Guess Lower!\n",
            "Enter Guess:43\n",
            "Guess Lower!\n",
            "Enter Guess:33\n",
            "Guess Lower!\n",
            "Enter Guess:23\n",
            "Guess Higher!\n",
            "Enter Guess:30\n",
            "Guess Higher!\n",
            "Enter Guess:31\n",
            "You Won!\n"
          ]
        }
      ],
      "source": [
        "import random\n",
        "number = random.randint(1,100)\n",
        "guess = 0\n",
        "while guess != number:\n",
        "  guess = int(input(\"Enter Guess:\" ))\n",
        "  if(guess < number):\n",
        "    print(\"Guess Higher!\")\n",
        "  elif(guess > number):\n",
        "    print(\"Guess Lower!\")\n",
        "  else:\n",
        "    print(\"You Won!\")"
      ]
    }
  ]
}